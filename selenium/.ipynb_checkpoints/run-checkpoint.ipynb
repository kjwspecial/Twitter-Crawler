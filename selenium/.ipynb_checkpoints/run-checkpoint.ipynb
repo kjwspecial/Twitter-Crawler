{
 "cells": [
  {
   "cell_type": "code",
   "execution_count": 1,
   "metadata": {},
   "outputs": [],
   "source": [
    "from selenium_crawler import *"
   ]
  },
  {
   "cell_type": "code",
   "execution_count": 2,
   "metadata": {},
   "outputs": [],
   "source": [
    "def main():\n",
    "    statr_time= time.time()\n",
    "    keyword = ''\n",
    "    for key in keyword:\n",
    "        chromedriver_path = os.getcwd()+'/chromedriver'\n",
    "        driver =init_driver(chromedriver_path)\n",
    "        \n",
    "        # login or not\n",
    "        username = \"\"\n",
    "        password = \"\"\n",
    "        login_twitter(driver, username, password)\n",
    "        \n",
    "        page_source = search_twitter(driver,\"$\"+key)\n",
    "        tweets = extract_tweets(page_source)\n",
    "        \n",
    "        with open(key + '.json', 'w') as file:\n",
    "            file.write(json.dumps(tweets)) \n",
    "        print(key+\" is done!\"+\"\\t --- %s seconds --- \" %(time.time()-statr_time))\n",
    "        #driver.quit()"
   ]
  },
  {
   "cell_type": "code",
   "execution_count": 3,
   "metadata": {},
   "outputs": [],
   "source": [
    "if __name__ ==\"__main__\":\n",
    "    main()"
   ]
  }
 ],
 "metadata": {
  "kernelspec": {
   "display_name": "Python 3",
   "language": "python",
   "name": "python3"
  },
  "language_info": {
   "codemirror_mode": {
    "name": "ipython",
    "version": 3
   },
   "file_extension": ".py",
   "mimetype": "text/x-python",
   "name": "python",
   "nbconvert_exporter": "python",
   "pygments_lexer": "ipython3",
   "version": "3.7.4"
  }
 },
 "nbformat": 4,
 "nbformat_minor": 4
}
